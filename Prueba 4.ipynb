{
 "cells": [
  {
   "cell_type": "code",
   "execution_count": null,
   "metadata": {},
   "outputs": [],
   "source": [
    "import numpy as np\n",
    "import pandas as pd\n",
    "import seaborn as sns\n",
    "import matplotlib.pyplot as plt \n",
    "import requests\n",
    "import io\n",
    "\n",
    "# URL del archivo CSV\n",
    "URL = 'https://cf-courses-data.s3.us.cloud-object-storage.appdomain.cloud/IBMDeveloperSkillsNetwork-ST0151EN-SkillsNetwork/labs/teachingratings.csv'\n",
    "\n",
    "# Realiza la solicitud GET para obtener los datos\n",
    "response = requests.get(URL)\n",
    "\n",
    "# Verifica si la solicitud fue exitosa\n",
    "if response.status_code == 200:\n",
    "    # Lee el contenido de la respuesta como un archivo CSV\n",
    "    ratings_df = pd.read_csv(io.StringIO(response.text))\n",
    "    \n",
    "    # Crea el gráfico de distribución\n",
    "    sns.set(style=\"ticks\")\n",
    "    plt.figure(figsize=(10, 6))\n",
    "    sns.histplot(data=ratings_df, x=\"beauty\", hue=\"native\", kde=True, element=\"step\", stat=\"density\", common_norm=False)\n",
    "    plt.title(\"Distribution of Beauty Scores with Native English Speaker as a Factor\")\n",
    "    plt.xlabel(\"Beauty Scores\")\n",
    "    plt.ylabel(\"Density\")\n",
    "    plt.show()\n",
    "else:\n",
    "    print(\"Error al descargar el archivo CSV\")\n",
    "\n",
    "#comentario de prueba de actualizacion\n"
   ]
  }
 ],
 "metadata": {
  "language_info": {
   "name": "python"
  }
 },
 "nbformat": 4,
 "nbformat_minor": 2
}
